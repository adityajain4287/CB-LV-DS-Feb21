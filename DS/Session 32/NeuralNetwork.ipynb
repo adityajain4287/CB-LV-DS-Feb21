{
 "cells": [
  {
   "cell_type": "code",
   "execution_count": 1,
   "source": [
    "import numpy as np"
   ],
   "outputs": [],
   "metadata": {}
  },
  {
   "cell_type": "code",
   "execution_count": 50,
   "source": [
    "class Sigmoid:\r\n",
    "    def __call__(self, X):\r\n",
    "        return self.eval(X)\r\n",
    "    \r\n",
    "    def eval(self, X):\r\n",
    "        return 1/(1+np.e**(-1*X))\r\n",
    "\r\n",
    "    def grad_input(self, X):\r\n",
    "        # return self.eval(X)*(1 - self.eval(X))\r\n",
    "        raise NotImplementedError(\"Gradient is not defined\")\r\n",
    "\r\n",
    "class Dot:\r\n",
    "    def __init__(self, input_size, units):\r\n",
    "        self.W = np.random.randn(input_size, units)\r\n",
    "        self.b = np.random.randn(units, 1)\r\n",
    "\r\n",
    "    def __call__(self, X):\r\n",
    "        return self.W.T.dot(X) + self.b\r\n",
    "\r\n",
    "    def grad_w(self, X):\r\n",
    "        # return X.T\r\n",
    "        raise NotImplementedError(\"Gradient is not defined\")\r\n",
    "    \r\n",
    "    def grad_b(self, X):\r\n",
    "        # return np.ones_like(self.b)\r\n",
    "        raise NotImplementedError(\"Gradient is not defined\")"
   ],
   "outputs": [],
   "metadata": {}
  },
  {
   "cell_type": "code",
   "execution_count": 51,
   "source": [
    "class Dense:\r\n",
    "\r\n",
    "    def __init__(self, units, activation, input_size):\r\n",
    "        self.units = units\r\n",
    "        self.dot = Dot(input_size, units)\r\n",
    "        self.activation = activation\r\n",
    "        \r\n",
    "    def eval(self, X):\r\n",
    "        return self.activation(self.dot(X))\r\n",
    "\r\n",
    "    def grad_parameters(self, X):\r\n",
    "        # da_dI = self.activation.grad_input(self.dot(X))\r\n",
    "        # dI_dw = self.dot.grad_w(X)\r\n",
    "        # da_dw = da_dI * dI\r\n",
    "        # _dw\r\n",
    "        # dI_db = self.dot.grad_b(X)\r\n",
    "        # da_db = da_dI * dI_db\r\n",
    "        raise NotImplementedError(\"Gradient is not defined\")\r\n",
    "    \r\n",
    "    def grad_input(self, X):\r\n",
    "        raise NotImplementedError(\"Gradient is not defined\")"
   ],
   "outputs": [],
   "metadata": {}
  },
  {
   "cell_type": "code",
   "execution_count": 57,
   "source": [
    "class Sequential:\r\n",
    "    def __init__(self):\r\n",
    "        self.layers = []\r\n",
    "\r\n",
    "    def add(self, layer):\r\n",
    "        self.layers.append(layer)\r\n",
    "        return self\r\n",
    "    \r\n",
    "    def forward_propagation(self, X):\r\n",
    "        output = X.T\r\n",
    "        for layer in self.layers:\r\n",
    "            output = layer.eval(output)\r\n",
    "        \r\n",
    "        return output.T\r\n",
    "\r\n",
    "    def _eval(self, X):\r\n",
    "        return self.forward_propagation(X)\r\n",
    "    \r\n",
    "    def backward_propagation(self):\r\n",
    "        raise NotImplementedError(\"Backpropagation is not defined!\")\r\n"
   ],
   "outputs": [],
   "metadata": {}
  },
  {
   "cell_type": "code",
   "execution_count": 68,
   "source": [
    "model = Sequential()\r\n",
    "model.add(Dense(units=2, activation=Sigmoid(), input_size=2))\r\n",
    "model.add(Dense(units=2, activation=Sigmoid(), input_size=2))\r\n",
    "model.add(Dense(units=1, activation=Sigmoid(), input_size=2))"
   ],
   "outputs": [
    {
     "output_type": "execute_result",
     "data": {
      "text/plain": [
       "<__main__.Sequential at 0x1c249af57b8>"
      ]
     },
     "metadata": {},
     "execution_count": 68
    }
   ],
   "metadata": {}
  },
  {
   "cell_type": "code",
   "execution_count": 69,
   "source": [
    "X = np.random.randn(10, 2)\r\n",
    "model._eval(X)"
   ],
   "outputs": [
    {
     "output_type": "execute_result",
     "data": {
      "text/plain": [
       "array([[0.58689911],\n",
       "       [0.58621129],\n",
       "       [0.58279921],\n",
       "       [0.5801565 ],\n",
       "       [0.58372611],\n",
       "       [0.57531038],\n",
       "       [0.58337048],\n",
       "       [0.58185406],\n",
       "       [0.58521658],\n",
       "       [0.58505319]])"
      ]
     },
     "metadata": {},
     "execution_count": 69
    }
   ],
   "metadata": {}
  },
  {
   "cell_type": "code",
   "execution_count": null,
   "source": [],
   "outputs": [],
   "metadata": {}
  }
 ],
 "metadata": {
  "orig_nbformat": 4,
  "language_info": {
   "name": "python",
   "version": "3.6.8",
   "mimetype": "text/x-python",
   "codemirror_mode": {
    "name": "ipython",
    "version": 3
   },
   "pygments_lexer": "ipython3",
   "nbconvert_exporter": "python",
   "file_extension": ".py"
  },
  "kernelspec": {
   "name": "python3",
   "display_name": "Python 3.6.8 64-bit"
  },
  "interpreter": {
   "hash": "952603312201d9d1df6f1b6eb4a2044a9cb2cee3bbe4f29af3f4f86c434f8702"
  }
 },
 "nbformat": 4,
 "nbformat_minor": 2
}