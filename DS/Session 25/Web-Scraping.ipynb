{
 "metadata": {
  "language_info": {
   "codemirror_mode": {
    "name": "ipython",
    "version": 3
   },
   "file_extension": ".py",
   "mimetype": "text/x-python",
   "name": "python",
   "nbconvert_exporter": "python",
   "pygments_lexer": "ipython3",
   "version": "3.6.8"
  },
  "orig_nbformat": 4,
  "kernelspec": {
   "name": "python3",
   "display_name": "Python 3.6.8 64-bit"
  },
  "interpreter": {
   "hash": "952603312201d9d1df6f1b6eb4a2044a9cb2cee3bbe4f29af3f4f86c434f8702"
  }
 },
 "nbformat": 4,
 "nbformat_minor": 2,
 "cells": [
  {
   "cell_type": "code",
   "execution_count": 1,
   "metadata": {},
   "outputs": [
    {
     "output_type": "stream",
     "name": "stdout",
     "text": [
      "Requirement already satisfied: beautifulsoup4 in c:\\users\\manu\\appdata\\local\\programs\\python\\python36\\lib\\site-packages (4.9.3)WARNING: You are using pip version 21.0.1; however, version 21.1.2 is available.\n",
      "You should consider upgrading via the 'c:\\users\\manu\\appdata\\local\\programs\\python\\python36\\python.exe -m pip install --upgrade pip' command.\n",
      "\n",
      "Requirement already satisfied: soupsieve>1.2 in c:\\users\\manu\\appdata\\local\\programs\\python\\python36\\lib\\site-packages (from beautifulsoup4) (2.1)\n"
     ]
    }
   ],
   "source": [
    "!pip install beautifulsoup4"
   ]
  },
  {
   "cell_type": "code",
   "execution_count": 2,
   "metadata": {},
   "outputs": [],
   "source": [
    "from bs4 import BeautifulSoup\n",
    "import requests"
   ]
  },
  {
   "cell_type": "code",
   "execution_count": 4,
   "metadata": {},
   "outputs": [],
   "source": [
    "response = requests.get(\"https://webscraper.io/test-sites/tables\")"
   ]
  },
  {
   "cell_type": "code",
   "execution_count": 7,
   "metadata": {},
   "outputs": [],
   "source": [
    "html = response.text"
   ]
  },
  {
   "cell_type": "code",
   "execution_count": 10,
   "metadata": {},
   "outputs": [],
   "source": [
    "soup = BeautifulSoup(html)"
   ]
  },
  {
   "cell_type": "code",
   "execution_count": 11,
   "metadata": {},
   "outputs": [
    {
     "output_type": "execute_result",
     "data": {
      "text/plain": [
       "bs4.BeautifulSoup"
      ]
     },
     "metadata": {},
     "execution_count": 11
    }
   ],
   "source": [
    "type(soup)"
   ]
  },
  {
   "cell_type": "code",
   "execution_count": 14,
   "metadata": {},
   "outputs": [],
   "source": [
    "tables = soup.find_all(\"table\")"
   ]
  },
  {
   "cell_type": "code",
   "execution_count": 15,
   "metadata": {},
   "outputs": [
    {
     "output_type": "execute_result",
     "data": {
      "text/plain": [
       "4"
      ]
     },
     "metadata": {},
     "execution_count": 15
    }
   ],
   "source": [
    "len(tables)"
   ]
  },
  {
   "cell_type": "code",
   "execution_count": 22,
   "metadata": {},
   "outputs": [
    {
     "output_type": "execute_result",
     "data": {
      "text/plain": [
       "['table', 'table-bordered']"
      ]
     },
     "metadata": {},
     "execution_count": 22
    }
   ],
   "source": [
    "tables[0][\"class\"]"
   ]
  },
  {
   "cell_type": "code",
   "execution_count": 28,
   "metadata": {},
   "outputs": [
    {
     "output_type": "stream",
     "name": "stdout",
     "text": [
      "#\nFirst Name\nLast Name\nUsername\n"
     ]
    }
   ],
   "source": [
    "for th in tables[0].thead.find_all(\"th\"):\n",
    "    print(th.text)"
   ]
  },
  {
   "cell_type": "code",
   "execution_count": 30,
   "metadata": {},
   "outputs": [
    {
     "output_type": "stream",
     "name": "stdout",
     "text": [
      "1 | Mark | Otto | @mdo | \n2 | Jacob | Thornton | @fat | \n3 | Larry | the Bird | @twitter | \n"
     ]
    }
   ],
   "source": [
    "for tr in tables[0].tbody.find_all(\"tr\"):\n",
    "    for td in tr.find_all(\"td\"):\n",
    "        print(td.text, end=\" | \")\n",
    "    print()\n"
   ]
  },
  {
   "cell_type": "code",
   "execution_count": 34,
   "metadata": {},
   "outputs": [
    {
     "output_type": "stream",
     "name": "stdout",
     "text": [
      "-x-x-x-x-x-x-x-x-x-x-x\n# | First Name | Last Name | Username | \n---------------------\n1 | Mark | Otto | @mdo | \n2 | Jacob | Thornton | @fat | \n3 | Larry | the Bird | @twitter | \n-x-x-x-x-x-x-x-x-x-x-x\n# | First Name | Last Name | Username | \n---------------------\n4 | Harry | Potter | @hp | \n5 | John | Snow | @dunno | \n6 | Tim | Bean | @timbean | \n-x-x-x-x-x-x-x-x-x-x-x\n\n---------------------\n\n1 | Mark | Otto | @mdo | \n2 | Jacob | Thornton | @fat | \n3 | Larry | the Bird | @twitter | \n-x-x-x-x-x-x-x-x-x-x-x\n\n---------------------\n\n\n- | - | - | - | \n1 | Mark | Otto | @mdo | \n2 | Jacob | Thornton | @fat | \n3 | Larry | the Bird | @twitter | \n"
     ]
    }
   ],
   "source": [
    "for table in tables:\n",
    "    print(\"-x-x-x-x-x-x-x-x-x-x-x\")\n",
    "    if table.thead:\n",
    "        for th in table.thead.find_all(\"th\"):\n",
    "            print(th.text, end=\" | \")\n",
    "    print(\"\\n---------------------\")\n",
    "    for tr in table.tbody.find_all(\"tr\"):\n",
    "        for td in tr.find_all(\"td\"):\n",
    "            print(td.text, end=\" | \")\n",
    "        print()\n"
   ]
  },
  {
   "cell_type": "code",
   "execution_count": 36,
   "metadata": {},
   "outputs": [
    {
     "output_type": "execute_result",
     "data": {
      "text/plain": [
       "[]"
      ]
     },
     "metadata": {},
     "execution_count": 36
    }
   ],
   "source": [
    "soup.find_all(\"table\", attrs={\"manu\": \"abc\"})"
   ]
  },
  {
   "cell_type": "code",
   "execution_count": 37,
   "metadata": {},
   "outputs": [
    {
     "output_type": "execute_result",
     "data": {
      "text/plain": [
       "[<div class=\"clearfix\"></div>]"
      ]
     },
     "metadata": {},
     "execution_count": 37
    }
   ],
   "source": [
    "soup.find_all(\"div\", attrs={\"class\": \"clearfix\"})"
   ]
  },
  {
   "cell_type": "code",
   "execution_count": 38,
   "metadata": {},
   "outputs": [
    {
     "output_type": "execute_result",
     "data": {
      "text/plain": [
       "'https://pypi.org/project/beautifulsoup4/'"
      ]
     },
     "metadata": {},
     "execution_count": 38
    }
   ],
   "source": [
    "https://pypi.org/project/beautifulsoup4/"
   ]
  }
 ]
}