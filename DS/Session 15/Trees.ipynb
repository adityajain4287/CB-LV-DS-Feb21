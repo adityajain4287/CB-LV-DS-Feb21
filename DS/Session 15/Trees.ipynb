{
 "metadata": {
  "language_info": {
   "codemirror_mode": {
    "name": "ipython",
    "version": 3
   },
   "file_extension": ".py",
   "mimetype": "text/x-python",
   "name": "python",
   "nbconvert_exporter": "python",
   "pygments_lexer": "ipython3",
   "version": "3.6.8"
  },
  "orig_nbformat": 2,
  "kernelspec": {
   "name": "python368jvsc74a57bd0952603312201d9d1df6f1b6eb4a2044a9cb2cee3bbe4f29af3f4f86c434f8702",
   "display_name": "Python 3.6.8 64-bit"
  },
  "metadata": {
   "interpreter": {
    "hash": "952603312201d9d1df6f1b6eb4a2044a9cb2cee3bbe4f29af3f4f86c434f8702"
   }
  }
 },
 "nbformat": 4,
 "nbformat_minor": 2,
 "cells": [
  {
   "source": [
    "### Binary Search Tree"
   ],
   "cell_type": "markdown",
   "metadata": {}
  },
  {
   "cell_type": "code",
   "execution_count": 76,
   "metadata": {},
   "outputs": [],
   "source": [
    "class Node:\n",
    "    def __init__(self, val, parent):\n",
    "        self.val = val\n",
    "        self.parent = parent\n",
    "        self.left = None\n",
    "        self.right = None\n",
    "        self.leaf = False\n",
    "\n",
    "class Tree:\n",
    "    def __init__(self, no_of_childs=2):\n",
    "        self.no_of_childs = no_of_childs\n",
    "        self.root = None\n",
    "    \n",
    "    @staticmethod\n",
    "    def add_node(node, val):\n",
    "        if(node.val < val):\n",
    "            if(node.right is None):\n",
    "                node.right = Node(val, node)\n",
    "                return None\n",
    "            return Tree.add_node(node.right, val)\n",
    "        else:\n",
    "            if(node.left is None):\n",
    "                node.left = Node(val, node)\n",
    "                return None\n",
    "            return Tree.add_node(node.left, val)\n",
    "\n",
    "    def create_bst(self, arr):\n",
    "        self.root = Node(arr[0], None)\n",
    "        arr.pop(0)\n",
    "        for i in range(len(arr)):\n",
    "            self.add_node(self.root, arr[i])\n",
    "\n",
    "    def print_bst(self):\n",
    "        q = []\n",
    "        q.append(self.root)\n",
    "        print(self.root.val)\n",
    "        q.append(None)\n",
    "        while(len(q)):\n",
    "            node = q.pop(0)\n",
    "            if(node == None):\n",
    "                if(len(q) != 0):\n",
    "                    q.append(None)\n",
    "                print(end=\"\\n->\")\n",
    "                continue\n",
    "            if(node.left is not None):\n",
    "                print(node.left.val, end=\" \")\n",
    "                q.append(node.left)\n",
    "            else:\n",
    "                print(end=\"  \")\n",
    "            if(node.right is not None):\n",
    "                print(node.right.val, end=\" \")\n",
    "                q.append(node.right)\n",
    "            else:\n",
    "                print(end=\"  \")\n",
    "            print(end=\"\\t\")"
   ]
  },
  {
   "cell_type": "code",
   "execution_count": 77,
   "metadata": {},
   "outputs": [],
   "source": [
    "tree = Tree()"
   ]
  },
  {
   "cell_type": "code",
   "execution_count": 78,
   "metadata": {},
   "outputs": [],
   "source": [
    "arr = [1, 2, 5, -3, -9, 10, 12, 0, 22]\n",
    "tree.create_bst(arr)"
   ]
  },
  {
   "cell_type": "code",
   "execution_count": 79,
   "metadata": {},
   "outputs": [
    {
     "output_type": "stream",
     "name": "stdout",
     "text": [
      "1\n-3 2 \t\n->-9 0 \t  5 \t\n->    \t    \t  10 \t\n->  12 \t\n->  22 \t\n->    \t\n->"
     ]
    }
   ],
   "source": [
    "tree.print_bst()"
   ]
  },
  {
   "source": [
    "### CSV & Pandas"
   ],
   "cell_type": "markdown",
   "metadata": {}
  },
  {
   "cell_type": "code",
   "execution_count": 81,
   "metadata": {},
   "outputs": [],
   "source": [
    "import pandas as pd"
   ]
  },
  {
   "cell_type": "code",
   "execution_count": 107,
   "metadata": {},
   "outputs": [],
   "source": [
    "data = pd.read_csv(\"./Test/sample.csv\", index_col=0)"
   ]
  },
  {
   "cell_type": "code",
   "execution_count": 108,
   "metadata": {},
   "outputs": [
    {
     "output_type": "execute_result",
     "data": {
      "text/plain": [
       "pandas.core.frame.DataFrame"
      ]
     },
     "metadata": {},
     "execution_count": 108
    }
   ],
   "source": [
    "type(data)"
   ]
  },
  {
   "cell_type": "code",
   "execution_count": 109,
   "metadata": {},
   "outputs": [
    {
     "output_type": "execute_result",
     "data": {
      "text/plain": [
       "                                                  Joke\n",
       "ID                                                    \n",
       "97   Chuck Norris doesn't throw up if he drinks too...\n",
       "98   In the beginning there was nothing...then Chuc...\n",
       "99   Chuck Norris has 12 moons. One of those moons ...\n",
       "100  Chuck Norris grinds his coffee with his teeth ...\n",
       "101  Archaeologists unearthed an old english dictio...\n",
       "102  Chuck Norris ordered a Big Mac at Burger King,...\n",
       "103  Chuck Norris and Mr. T walked into a bar. The ...\n",
       "104  If you Google search &quot;Chuck Norris gettin...\n",
       "105  Chuck Norris can drink an entire gallon of mil...\n",
       "106  Little known medical fact: Chuck Norris invent...\n",
       "107  Chuck Norris doesn't bowl strikes, he just kno...\n",
       "108  The show Survivor had the original premise of ...\n",
       "109  It takes Chuck Norris 20 minutes to watch 60 M..."
      ],
      "text/html": "<div>\n<style scoped>\n    .dataframe tbody tr th:only-of-type {\n        vertical-align: middle;\n    }\n\n    .dataframe tbody tr th {\n        vertical-align: top;\n    }\n\n    .dataframe thead th {\n        text-align: right;\n    }\n</style>\n<table border=\"1\" class=\"dataframe\">\n  <thead>\n    <tr style=\"text-align: right;\">\n      <th></th>\n      <th>Joke</th>\n    </tr>\n    <tr>\n      <th>ID</th>\n      <th></th>\n    </tr>\n  </thead>\n  <tbody>\n    <tr>\n      <th>97</th>\n      <td>Chuck Norris doesn't throw up if he drinks too...</td>\n    </tr>\n    <tr>\n      <th>98</th>\n      <td>In the beginning there was nothing...then Chuc...</td>\n    </tr>\n    <tr>\n      <th>99</th>\n      <td>Chuck Norris has 12 moons. One of those moons ...</td>\n    </tr>\n    <tr>\n      <th>100</th>\n      <td>Chuck Norris grinds his coffee with his teeth ...</td>\n    </tr>\n    <tr>\n      <th>101</th>\n      <td>Archaeologists unearthed an old english dictio...</td>\n    </tr>\n    <tr>\n      <th>102</th>\n      <td>Chuck Norris ordered a Big Mac at Burger King,...</td>\n    </tr>\n    <tr>\n      <th>103</th>\n      <td>Chuck Norris and Mr. T walked into a bar. The ...</td>\n    </tr>\n    <tr>\n      <th>104</th>\n      <td>If you Google search &amp;quot;Chuck Norris gettin...</td>\n    </tr>\n    <tr>\n      <th>105</th>\n      <td>Chuck Norris can drink an entire gallon of mil...</td>\n    </tr>\n    <tr>\n      <th>106</th>\n      <td>Little known medical fact: Chuck Norris invent...</td>\n    </tr>\n    <tr>\n      <th>107</th>\n      <td>Chuck Norris doesn't bowl strikes, he just kno...</td>\n    </tr>\n    <tr>\n      <th>108</th>\n      <td>The show Survivor had the original premise of ...</td>\n    </tr>\n    <tr>\n      <th>109</th>\n      <td>It takes Chuck Norris 20 minutes to watch 60 M...</td>\n    </tr>\n  </tbody>\n</table>\n</div>"
     },
     "metadata": {},
     "execution_count": 109
    }
   ],
   "source": [
    "data"
   ]
  },
  {
   "cell_type": "code",
   "execution_count": 110,
   "metadata": {},
   "outputs": [
    {
     "output_type": "execute_result",
     "data": {
      "text/plain": [
       "                                                  Joke\n",
       "ID                                                    \n",
       "97   Chuck Norris doesn't throw up if he drinks too...\n",
       "98   In the beginning there was nothing...then Chuc...\n",
       "99   Chuck Norris has 12 moons. One of those moons ...\n",
       "100  Chuck Norris grinds his coffee with his teeth ...\n",
       "101  Archaeologists unearthed an old english dictio..."
      ],
      "text/html": "<div>\n<style scoped>\n    .dataframe tbody tr th:only-of-type {\n        vertical-align: middle;\n    }\n\n    .dataframe tbody tr th {\n        vertical-align: top;\n    }\n\n    .dataframe thead th {\n        text-align: right;\n    }\n</style>\n<table border=\"1\" class=\"dataframe\">\n  <thead>\n    <tr style=\"text-align: right;\">\n      <th></th>\n      <th>Joke</th>\n    </tr>\n    <tr>\n      <th>ID</th>\n      <th></th>\n    </tr>\n  </thead>\n  <tbody>\n    <tr>\n      <th>97</th>\n      <td>Chuck Norris doesn't throw up if he drinks too...</td>\n    </tr>\n    <tr>\n      <th>98</th>\n      <td>In the beginning there was nothing...then Chuc...</td>\n    </tr>\n    <tr>\n      <th>99</th>\n      <td>Chuck Norris has 12 moons. One of those moons ...</td>\n    </tr>\n    <tr>\n      <th>100</th>\n      <td>Chuck Norris grinds his coffee with his teeth ...</td>\n    </tr>\n    <tr>\n      <th>101</th>\n      <td>Archaeologists unearthed an old english dictio...</td>\n    </tr>\n  </tbody>\n</table>\n</div>"
     },
     "metadata": {},
     "execution_count": 110
    }
   ],
   "source": [
    "data.head(5)"
   ]
  },
  {
   "cell_type": "code",
   "execution_count": 111,
   "metadata": {},
   "outputs": [
    {
     "output_type": "execute_result",
     "data": {
      "text/plain": [
       "(13, 1)"
      ]
     },
     "metadata": {},
     "execution_count": 111
    }
   ],
   "source": [
    "data.shape"
   ]
  },
  {
   "cell_type": "code",
   "execution_count": 113,
   "metadata": {},
   "outputs": [
    {
     "output_type": "execute_result",
     "data": {
      "text/plain": [
       "ID\n",
       "97     Chuck Norris doesn't throw up if he drinks too...\n",
       "98     In the beginning there was nothing...then Chuc...\n",
       "99     Chuck Norris has 12 moons. One of those moons ...\n",
       "100    Chuck Norris grinds his coffee with his teeth ...\n",
       "101    Archaeologists unearthed an old english dictio...\n",
       "102    Chuck Norris ordered a Big Mac at Burger King,...\n",
       "103    Chuck Norris and Mr. T walked into a bar. The ...\n",
       "104    If you Google search &quot;Chuck Norris gettin...\n",
       "105    Chuck Norris can drink an entire gallon of mil...\n",
       "106    Little known medical fact: Chuck Norris invent...\n",
       "107    Chuck Norris doesn't bowl strikes, he just kno...\n",
       "108    The show Survivor had the original premise of ...\n",
       "109    It takes Chuck Norris 20 minutes to watch 60 M...\n",
       "Name: Joke, dtype: object"
      ]
     },
     "metadata": {},
     "execution_count": 113
    }
   ],
   "source": [
    "data[\"Joke\"][11]"
   ]
  },
  {
   "cell_type": "code",
   "execution_count": 119,
   "metadata": {},
   "outputs": [
    {
     "output_type": "execute_result",
     "data": {
      "text/plain": [
       "Joke    In the beginning there was nothing...then Chuc...\n",
       "Name: 98, dtype: object"
      ]
     },
     "metadata": {},
     "execution_count": 119
    }
   ],
   "source": [
    "data.loc[98]"
   ]
  },
  {
   "cell_type": "code",
   "execution_count": 117,
   "metadata": {},
   "outputs": [
    {
     "output_type": "execute_result",
     "data": {
      "text/plain": [
       "Joke    In the beginning there was nothing...then Chuc...\n",
       "Name: 98, dtype: object"
      ]
     },
     "metadata": {},
     "execution_count": 117
    }
   ],
   "source": [
    "data.iloc[1]"
   ]
  },
  {
   "cell_type": "code",
   "execution_count": 121,
   "metadata": {},
   "outputs": [
    {
     "output_type": "execute_result",
     "data": {
      "text/plain": [
       "numpy.ndarray"
      ]
     },
     "metadata": {},
     "execution_count": 121
    }
   ],
   "source": [
    "type(data.values)"
   ]
  },
  {
   "cell_type": "code",
   "execution_count": 123,
   "metadata": {},
   "outputs": [
    {
     "output_type": "execute_result",
     "data": {
      "text/plain": [
       "dtype('O')"
      ]
     },
     "metadata": {},
     "execution_count": 123
    }
   ],
   "source": [
    "data.values.dtype"
   ]
  },
  {
   "cell_type": "code",
   "execution_count": 124,
   "metadata": {},
   "outputs": [
    {
     "output_type": "execute_result",
     "data": {
      "text/plain": [
       "array([['In the beginning there was nothing...then Chuck Norris Roundhouse kicked that nothing in the face and said &quot;Get a job&quot;. That is the story of the universe.'],\n",
       "       ['Chuck Norris has 12 moons. One of those moons is the Earth.'],\n",
       "       ['Chuck Norris grinds his coffee with his teeth and boils the water with his own rage.'],\n",
       "       ['Archaeologists unearthed an old english dictionary dating back to the year 1236. It defined &quot;victim&quot; as &quot;one who has encountered Chuck Norris&quot;']],\n",
       "      dtype=object)"
      ]
     },
     "metadata": {},
     "execution_count": 124
    }
   ],
   "source": [
    "data.values[1:5]"
   ]
  },
  {
   "cell_type": "code",
   "execution_count": null,
   "metadata": {},
   "outputs": [],
   "source": []
  },
  {
   "cell_type": "code",
   "execution_count": null,
   "metadata": {},
   "outputs": [],
   "source": []
  },
  {
   "cell_type": "code",
   "execution_count": null,
   "metadata": {},
   "outputs": [],
   "source": []
  },
  {
   "cell_type": "code",
   "execution_count": null,
   "metadata": {},
   "outputs": [],
   "source": []
  }
 ]
}