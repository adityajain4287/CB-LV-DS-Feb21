{
 "metadata": {
  "language_info": {
   "codemirror_mode": {
    "name": "ipython",
    "version": 3
   },
   "file_extension": ".py",
   "mimetype": "text/x-python",
   "name": "python",
   "nbconvert_exporter": "python",
   "pygments_lexer": "ipython3",
   "version": "3.6.8"
  },
  "orig_nbformat": 4,
  "kernelspec": {
   "name": "python3",
   "display_name": "Python 3.6.8 64-bit"
  },
  "interpreter": {
   "hash": "952603312201d9d1df6f1b6eb4a2044a9cb2cee3bbe4f29af3f4f86c434f8702"
  }
 },
 "nbformat": 4,
 "nbformat_minor": 2,
 "cells": [
  {
   "cell_type": "code",
   "execution_count": 1,
   "metadata": {},
   "outputs": [],
   "source": [
    "import numpy as np"
   ]
  },
  {
   "cell_type": "code",
   "execution_count": 3,
   "metadata": {},
   "outputs": [],
   "source": [
    "class MultinomialNBCustom:\n",
    "    def __init__(self):\n",
    "        self.X = None\n",
    "        self.y = None\n",
    "    \n",
    "    def _calculate_probability(self, classes):\n",
    "        self.p_fs = {}\n",
    "        for cls in classes:\n",
    "            N = self.X[self.y == cls].sum()\n",
    "            self.p_fs[cls] = []\n",
    "            for feat in range(self.X.shape[1]):\n",
    "                self.p_fs[cls].append(self.X[self.y == cls][:, feat].sum()/N)\n",
    "        self.priors = {}\n",
    "        for cls in classes:\n",
    "            self.priors[cls] = (self.y == cls).sum()/len(self.y)\n",
    "        \n",
    "        return self\n",
    "    \n",
    "    def _calculate_likelihood(self, X, cls):\n",
    "        N = self.X[self.y == cls].sum()\n",
    "        likelihood = np.math.factorial(N)\n",
    "        for ix in range(len(X)):\n",
    "            likelihood *= (np.math.pow(self.p_fs[cls][ix], X[ix])/np.math.factorial(X[ix]))\n",
    "        \n",
    "        return likelihood\n",
    "\n",
    "    def _calculate_unnormalized_posterior(self, X, cls):\n",
    "        return self.priors[cls]*self._calculate_likelihood(X, cls)\n",
    "\n",
    "    def fit(self, X, y):\n",
    "        self.X = X\n",
    "        self.y = y\n",
    "\n",
    "        self._calculate_probability(np.unique(y))\n",
    "        return self\n",
    "    \n",
    "    def predict(self, X):\n",
    "        assert len(X.shape) == 2, \"Shape of X passed is not correct\"\n",
    "        y_pred = []\n",
    "        for x in X:\n",
    "            posteriors_probs = {}\n",
    "            for cls in self.priors.keys():\n",
    "                posteriors_probs[cls] = self._calculate_unnormalized_posterior(self, x, cls)\n",
    "            for key in posteriors_probs.keys():\n",
    "                posteriors_probs[key] /= np.sum(posteriors_probs.values())\n",
    "            \n",
    "            sorted_probs = sorted(posteriors_probs.keys(), key=lambda x: posteriors_probs[key], reverse=True)\n",
    "            y_pred.append({\"class\": sorted_probs[0], \"confidence\":posteriors_probs[sorted_probs[0]]})\n",
    "\n",
    "        return y_pred\n"
   ]
  },
  {
   "cell_type": "code",
   "execution_count": null,
   "metadata": {},
   "outputs": [],
   "source": []
  }
 ]
}