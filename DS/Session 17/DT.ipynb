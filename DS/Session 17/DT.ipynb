{
 "metadata": {
  "language_info": {
   "codemirror_mode": {
    "name": "ipython",
    "version": 3
   },
   "file_extension": ".py",
   "mimetype": "text/x-python",
   "name": "python",
   "nbconvert_exporter": "python",
   "pygments_lexer": "ipython3",
   "version": "3.6.8"
  },
  "orig_nbformat": 2,
  "kernelspec": {
   "name": "python368jvsc74a57bd0952603312201d9d1df6f1b6eb4a2044a9cb2cee3bbe4f29af3f4f86c434f8702",
   "display_name": "Python 3.6.8 64-bit"
  },
  "metadata": {
   "interpreter": {
    "hash": "952603312201d9d1df6f1b6eb4a2044a9cb2cee3bbe4f29af3f4f86c434f8702"
   }
  }
 },
 "nbformat": 4,
 "nbformat_minor": 2,
 "cells": [
  {
   "cell_type": "code",
   "execution_count": 2,
   "metadata": {},
   "outputs": [],
   "source": [
    "import pandas as pd\n",
    "import numpy as np\n",
    "import matplotlib.pyplot as plt"
   ]
  },
  {
   "cell_type": "code",
   "execution_count": 6,
   "metadata": {},
   "outputs": [
    {
     "output_type": "execute_result",
     "data": {
      "text/plain": [
       "    Outlook Temperature Humidity  Windy Play Golf\n",
       "0     Rainy         Hot     High  False        No\n",
       "1     Rainy         Hot     High   True        No\n",
       "2  Overcast         Hot     High  False       Yes\n",
       "3     Sunny        Mild     High  False       Yes\n",
       "4     Sunny        Cool   Normal  False       Yes"
      ],
      "text/html": "<div>\n<style scoped>\n    .dataframe tbody tr th:only-of-type {\n        vertical-align: middle;\n    }\n\n    .dataframe tbody tr th {\n        vertical-align: top;\n    }\n\n    .dataframe thead th {\n        text-align: right;\n    }\n</style>\n<table border=\"1\" class=\"dataframe\">\n  <thead>\n    <tr style=\"text-align: right;\">\n      <th></th>\n      <th>Outlook</th>\n      <th>Temperature</th>\n      <th>Humidity</th>\n      <th>Windy</th>\n      <th>Play Golf</th>\n    </tr>\n  </thead>\n  <tbody>\n    <tr>\n      <th>0</th>\n      <td>Rainy</td>\n      <td>Hot</td>\n      <td>High</td>\n      <td>False</td>\n      <td>No</td>\n    </tr>\n    <tr>\n      <th>1</th>\n      <td>Rainy</td>\n      <td>Hot</td>\n      <td>High</td>\n      <td>True</td>\n      <td>No</td>\n    </tr>\n    <tr>\n      <th>2</th>\n      <td>Overcast</td>\n      <td>Hot</td>\n      <td>High</td>\n      <td>False</td>\n      <td>Yes</td>\n    </tr>\n    <tr>\n      <th>3</th>\n      <td>Sunny</td>\n      <td>Mild</td>\n      <td>High</td>\n      <td>False</td>\n      <td>Yes</td>\n    </tr>\n    <tr>\n      <th>4</th>\n      <td>Sunny</td>\n      <td>Cool</td>\n      <td>Normal</td>\n      <td>False</td>\n      <td>Yes</td>\n    </tr>\n  </tbody>\n</table>\n</div>"
     },
     "metadata": {},
     "execution_count": 6
    }
   ],
   "source": [
    "data = pd.read_csv(\"./data.csv\", index_col=\"Unnamed: 0\")\n",
    "data.head()"
   ]
  },
  {
   "cell_type": "code",
   "execution_count": 11,
   "metadata": {},
   "outputs": [],
   "source": [
    "X, y = data.drop([\"Play Golf\"], axis=1), data[\"Play Golf\"]"
   ]
  },
  {
   "cell_type": "code",
   "execution_count": 125,
   "metadata": {},
   "outputs": [],
   "source": [
    "class Node:\n",
    "    def __init__(self):\n",
    "        self.feature = None\n",
    "        self.children = {}\n",
    "        self.X = None\n",
    "        self.y = None\n",
    "        self.leaf = False\n",
    "        self.pred = None\n",
    "    \n",
    "    def predict(self):\n",
    "        if not self.leaf:\n",
    "            raise ValueError(\"Prediction called at non-leaf node.\")\n",
    "\n",
    "        counts = self.y.value_counts()\n",
    "        prob_yes = prob_no = 0\n",
    "        if \"Yes\" in counts:        \n",
    "            prob_yes = counts[\"Yes\"]/counts.sum()\n",
    "        if \"No\" in counts:\n",
    "            prob_no = counts[\"No\"]/counts.sum()\n",
    "\n",
    "        return {\"Yes\": prob_yes, \"No\": prob_no}\n",
    "\n",
    "\n",
    "class DecisionTreeCustom:\n",
    "    def __init__(self):\n",
    "        self.root = None\n",
    "        pass\n",
    "    \n",
    "    @staticmethod\n",
    "    def entropy(y):\n",
    "        counts = y.value_counts()\n",
    "        prob_yes = prob_no = 0\n",
    "        if \"Yes\" in counts:        \n",
    "            prob_yes = counts[\"Yes\"]/counts.sum()\n",
    "        if \"No\" in counts:\n",
    "            prob_no = counts[\"No\"]/counts.sum()\n",
    "        log_yes = log_no = 0\n",
    "        if prob_yes:\n",
    "            log_yes = np.math.log2(prob_yes)\n",
    "        if prob_no:\n",
    "            log_no = np.math.log2(prob_no)\n",
    "\n",
    "        return -(prob_yes*log_yes + prob_no * log_no)\n",
    "\n",
    "    @staticmethod\n",
    "    def entropy_after_split(feature, X, y):\n",
    "        unique = X[feature].unique()\n",
    "        entropy = 0\n",
    "        for val in unique:\n",
    "            splitted_y = y[X[feature] == val]\n",
    "            weight = len(splitted_y)/len(X)\n",
    "            entropy += weight*DecisionTreeCustom.entropy(splitted_y)\n",
    "        \n",
    "        return entropy\n",
    "            \n",
    "    @staticmethod\n",
    "    def make_split(feature, X, y):\n",
    "        unique = X[feature].unique()\n",
    "        children = {}\n",
    "\n",
    "        for val in unique:\n",
    "            node = Node()\n",
    "            node.X = X[X[feature] == val].drop([feature], axis=1)\n",
    "            node.y = y[X[feature] == val]\n",
    "            children[val] = node\n",
    "        \n",
    "        return children\n",
    "\n",
    "    @staticmethod\n",
    "    def make_tree(node, X, y):\n",
    "        own_entropy = DecisionTreeCustom.entropy(y)\n",
    "        features = X.columns\n",
    "        feature_info_gains = []\n",
    "        for feature in features:\n",
    "            feature_info_gains.append(own_entropy - DecisionTreeCustom.entropy_after_split(feature, X, y))\n",
    "        \n",
    "        ix = np.argmax(feature_info_gains)\n",
    "\n",
    "        if feature_info_gains[ix] > 0:\n",
    "            node.feature = features[ix]\n",
    "            node.children = DecisionTreeCustom.make_split(features[ix], X, y)\n",
    "            for child in node.children.values():\n",
    "                DecisionTreeCustom.make_tree(child, child.X, child.y)\n",
    "            return None\n",
    "        else:\n",
    "            node.leaf = True\n",
    "            node.y = y \n",
    "            return None\n",
    "\n",
    "    def fit(self, X, y):\n",
    "        self.root = Node()\n",
    "        DecisionTreeCustom.make_tree(self.root, X, y)\n",
    "        return self\n",
    "    \n",
    "    def predict_tree_recursive(node, X):\n",
    "        if node.leaf:\n",
    "            return node.predict()\n",
    "        \n",
    "        val = X[node.feature]\n",
    "        return DecisionTreeCustom.predict_tree_recursive(node.children[val], X)\n",
    "\n",
    "    def predict_tree(self, X):\n",
    "        return DecisionTreeCustom.predict_tree_recursive(self.root, X)\n",
    "\n",
    "    def predict(self, X):\n",
    "        y_pred = []\n",
    "\n",
    "        for row_ix in range(len(X)):\n",
    "            y_pred.append(self.predict_tree(X.iloc[row_ix]))\n",
    "\n",
    "        return y_pred\n",
    "\n",
    "\n",
    "    @staticmethod\n",
    "    def print_tree_recursive(node, intent):\n",
    "        print(end=intent)\n",
    "        if(node.leaf):\n",
    "            print(\"Leaf->\", node.predict())\n",
    "        else:\n",
    "            print(\"Feature Split->\", node.feature)\n",
    "            for child_name, child in node.children.items():\n",
    "                print(intent, child_name, \"-->\", end=\" \")\n",
    "                DecisionTreeCustom.print_tree_recursive(child, intent+\"\\t\")\n",
    "\n",
    "    def print_tree(self):\n",
    "        return DecisionTreeCustom.print_tree_recursive(self.root, \"\")\n",
    "\n",
    "        "
   ]
  },
  {
   "cell_type": "code",
   "execution_count": 126,
   "metadata": {},
   "outputs": [],
   "source": [
    "dt = DecisionTreeCustom()"
   ]
  },
  {
   "cell_type": "code",
   "execution_count": 127,
   "metadata": {},
   "outputs": [
    {
     "output_type": "execute_result",
     "data": {
      "text/plain": [
       "<__main__.DecisionTreeCustom at 0x1d1869ff320>"
      ]
     },
     "metadata": {},
     "execution_count": 127
    }
   ],
   "source": [
    "dt.fit(X, y)"
   ]
  },
  {
   "cell_type": "code",
   "execution_count": 128,
   "metadata": {},
   "outputs": [
    {
     "output_type": "stream",
     "name": "stdout",
     "text": [
      "Feature Split-> Outlook\n Rainy --> \tFeature Split-> Temperature\n\t Hot --> \t\tLeaf-> {'Yes': 0, 'No': 1.0}\n\t Mild --> \t\tLeaf-> {'Yes': 0, 'No': 1.0}\n\t Cool --> \t\tLeaf-> {'Yes': 1.0, 'No': 0}\n Overcast --> \tLeaf-> {'Yes': 1.0, 'No': 0}\n Sunny --> \tFeature Split-> Windy\n\t False --> \t\tLeaf-> {'Yes': 1.0, 'No': 0}\n\t True --> \t\tLeaf-> {'Yes': 0, 'No': 1.0}\n"
     ]
    }
   ],
   "source": [
    "dt.print_tree()"
   ]
  },
  {
   "cell_type": "code",
   "execution_count": 129,
   "metadata": {},
   "outputs": [
    {
     "output_type": "execute_result",
     "data": {
      "text/plain": [
       "[{'Yes': 0, 'No': 1.0},\n",
       " {'Yes': 0, 'No': 1.0},\n",
       " {'Yes': 1.0, 'No': 0},\n",
       " {'Yes': 1.0, 'No': 0},\n",
       " {'Yes': 1.0, 'No': 0},\n",
       " {'Yes': 0, 'No': 1.0},\n",
       " {'Yes': 1.0, 'No': 0},\n",
       " {'Yes': 0, 'No': 1.0},\n",
       " {'Yes': 1.0, 'No': 0},\n",
       " {'Yes': 1.0, 'No': 0}]"
      ]
     },
     "metadata": {},
     "execution_count": 129
    }
   ],
   "source": [
    "dt.predict(X)"
   ]
  },
  {
   "cell_type": "code",
   "execution_count": null,
   "metadata": {},
   "outputs": [],
   "source": []
  },
  {
   "cell_type": "code",
   "execution_count": null,
   "metadata": {},
   "outputs": [],
   "source": []
  },
  {
   "cell_type": "code",
   "execution_count": null,
   "metadata": {},
   "outputs": [],
   "source": []
  },
  {
   "cell_type": "code",
   "execution_count": null,
   "metadata": {},
   "outputs": [],
   "source": []
  },
  {
   "cell_type": "code",
   "execution_count": null,
   "metadata": {},
   "outputs": [],
   "source": []
  },
  {
   "cell_type": "code",
   "execution_count": null,
   "metadata": {},
   "outputs": [],
   "source": []
  },
  {
   "cell_type": "code",
   "execution_count": null,
   "metadata": {},
   "outputs": [],
   "source": []
  },
  {
   "cell_type": "code",
   "execution_count": null,
   "metadata": {},
   "outputs": [],
   "source": []
  },
  {
   "cell_type": "code",
   "execution_count": null,
   "metadata": {},
   "outputs": [],
   "source": []
  },
  {
   "cell_type": "code",
   "execution_count": null,
   "metadata": {},
   "outputs": [],
   "source": []
  }
 ]
}