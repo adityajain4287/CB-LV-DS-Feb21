{
 "metadata": {
  "language_info": {
   "codemirror_mode": {
    "name": "ipython",
    "version": 3
   },
   "file_extension": ".py",
   "mimetype": "text/x-python",
   "name": "python",
   "nbconvert_exporter": "python",
   "pygments_lexer": "ipython3",
   "version": "3.8.7-final"
  },
  "orig_nbformat": 2,
  "kernelspec": {
   "name": "python3",
   "display_name": "Python 3.8.7 64-bit",
   "metadata": {
    "interpreter": {
     "hash": "5d97ad4eda96f4e0dcd5ae4f97368654619500468c6147550d2a1b2a1881f9a5"
    }
   }
  }
 },
 "nbformat": 4,
 "nbformat_minor": 2,
 "cells": [
  {
   "cell_type": "code",
   "execution_count": 1,
   "metadata": {},
   "outputs": [
    {
     "output_type": "stream",
     "name": "stdout",
     "text": [
      "1\n2\n3\n4\n5\n"
     ]
    }
   ],
   "source": [
    "l = [1,2,3,4,5] # iterable\n",
    "for el in l:\n",
    "    print(el)\n"
   ]
  },
  {
   "cell_type": "code",
   "execution_count": 2,
   "metadata": {},
   "outputs": [
    {
     "output_type": "execute_result",
     "data": {
      "text/plain": [
       "list_iterator"
      ]
     },
     "metadata": {},
     "execution_count": 2
    }
   ],
   "source": [
    "itr = iter(l)\n",
    "type(itr)"
   ]
  },
  {
   "cell_type": "code",
   "execution_count": 8,
   "metadata": {},
   "outputs": [
    {
     "output_type": "error",
     "ename": "StopIteration",
     "evalue": "",
     "traceback": [
      "\u001b[1;31m---------------------------------------------------------------------------\u001b[0m",
      "\u001b[1;31mStopIteration\u001b[0m                             Traceback (most recent call last)",
      "\u001b[1;32m<ipython-input-8-6693cc261707>\u001b[0m in \u001b[0;36m<module>\u001b[1;34m\u001b[0m\n\u001b[1;32m----> 1\u001b[1;33m \u001b[0mnext\u001b[0m\u001b[1;33m(\u001b[0m\u001b[0mitr\u001b[0m\u001b[1;33m)\u001b[0m\u001b[1;33m\u001b[0m\u001b[1;33m\u001b[0m\u001b[0m\n\u001b[0m",
      "\u001b[1;31mStopIteration\u001b[0m: "
     ]
    }
   ],
   "source": [
    "next(itr)"
   ]
  },
  {
   "cell_type": "code",
   "execution_count": 12,
   "metadata": {},
   "outputs": [],
   "source": [
    "def func(a, arr=[]):\n",
    "    arr.append(a)\n",
    "    print(arr)"
   ]
  },
  {
   "cell_type": "code",
   "execution_count": 13,
   "metadata": {},
   "outputs": [
    {
     "output_type": "stream",
     "name": "stdout",
     "text": [
      "[3]\n"
     ]
    }
   ],
   "source": [
    "func(3)"
   ]
  },
  {
   "cell_type": "code",
   "execution_count": 14,
   "metadata": {},
   "outputs": [
    {
     "output_type": "stream",
     "name": "stdout",
     "text": [
      "[1, 2, 3, 4]\n"
     ]
    }
   ],
   "source": [
    "func(4, [1,2,3])"
   ]
  },
  {
   "cell_type": "code",
   "execution_count": 15,
   "metadata": {},
   "outputs": [
    {
     "output_type": "stream",
     "name": "stdout",
     "text": [
      "[3, 4]\n"
     ]
    }
   ],
   "source": [
    "func(4)"
   ]
  },
  {
   "cell_type": "code",
   "execution_count": 18,
   "metadata": {},
   "outputs": [
    {
     "output_type": "stream",
     "name": "stdout",
     "text": [
      "[2]\n140719089059536 2092379494592\nNone\n[2, 3, 4, 3]\n140719089059568 2092368431040\nNone\n[2, 3]\n140719089059568 2092379494592\nNone\n[2, 3, 4]\n140719089059600 2092379494592\nNone\n"
     ]
    }
   ],
   "source": [
    "def func(a, arr=[]):\n",
    "    arr.append(a)\n",
    "    print(arr)\n",
    "    print(id(a), id(arr))\n",
    "\n",
    "\n",
    "print(func(2))\n",
    "\n",
    "print(func(3, [2, 3, 4]))\n",
    "\n",
    "print(func(3))\n",
    "print(func(4))"
   ]
  },
  {
   "cell_type": "code",
   "execution_count": 17,
   "metadata": {},
   "outputs": [
    {
     "output_type": "execute_result",
     "data": {
      "text/plain": [
       "[1, 2, 4]"
      ]
     },
     "metadata": {},
     "execution_count": 17
    }
   ],
   "source": [
    "l1 = [1,2]\n",
    "l2 = l1\n",
    "l2.append(4)\n",
    "l2 "
   ]
  },
  {
   "source": [
    "# OOP"
   ],
   "cell_type": "markdown",
   "metadata": {}
  },
  {
   "cell_type": "code",
   "execution_count": 22,
   "metadata": {},
   "outputs": [],
   "source": [
    "class Dog:\n",
    "\n",
    "    pass"
   ]
  },
  {
   "cell_type": "code",
   "execution_count": 20,
   "metadata": {},
   "outputs": [
    {
     "output_type": "stream",
     "name": "stdout",
     "text": [
      "<class 'int'>\n"
     ]
    }
   ],
   "source": [
    "a = 3\n",
    "print(type(a))"
   ]
  },
  {
   "cell_type": "code",
   "execution_count": 21,
   "metadata": {},
   "outputs": [
    {
     "output_type": "stream",
     "name": "stdout",
     "text": [
      "<class 'list'>\n"
     ]
    }
   ],
   "source": [
    "l = [ 1,2 ,3]\n",
    "print(type(l))"
   ]
  },
  {
   "cell_type": "code",
   "execution_count": 23,
   "metadata": {},
   "outputs": [
    {
     "output_type": "stream",
     "name": "stdout",
     "text": [
      "<class '__main__.Dog'>\n"
     ]
    }
   ],
   "source": [
    "dog1 = Dog()\n",
    "print(type(dog1))"
   ]
  },
  {
   "cell_type": "code",
   "execution_count": 24,
   "metadata": {},
   "outputs": [],
   "source": [
    "dog1.name = 'Tyson'\n",
    "dog1.breed = 'Labrador'"
   ]
  },
  {
   "cell_type": "code",
   "execution_count": 25,
   "metadata": {},
   "outputs": [
    {
     "output_type": "execute_result",
     "data": {
      "text/plain": [
       "'Tyson'"
      ]
     },
     "metadata": {},
     "execution_count": 25
    }
   ],
   "source": [
    "dog1.name"
   ]
  },
  {
   "cell_type": "code",
   "execution_count": 26,
   "metadata": {},
   "outputs": [
    {
     "output_type": "stream",
     "name": "stdout",
     "text": [
      "Tom pitbull\n"
     ]
    }
   ],
   "source": [
    "dog2 = Dog()\n",
    "dog2.name = 'Tom'\n",
    "dog2.breed = \"pitbull\"\n",
    "print(dog2.name, dog2.breed)"
   ]
  },
  {
   "cell_type": "code",
   "execution_count": 27,
   "metadata": {},
   "outputs": [],
   "source": [
    "class Dog:\n",
    "\n",
    "    def __init__(arg, name):\n",
    "        arg.name = name"
   ]
  },
  {
   "cell_type": "code",
   "execution_count": 29,
   "metadata": {},
   "outputs": [],
   "source": [
    "d1 = Dog('Tyson')"
   ]
  },
  {
   "cell_type": "code",
   "execution_count": 30,
   "metadata": {},
   "outputs": [
    {
     "output_type": "stream",
     "name": "stdout",
     "text": [
      "Tyson\n"
     ]
    }
   ],
   "source": [
    "print(d1.name)"
   ]
  },
  {
   "cell_type": "code",
   "execution_count": 32,
   "metadata": {},
   "outputs": [],
   "source": [
    "d2 = Dog('bruce')"
   ]
  },
  {
   "cell_type": "code",
   "execution_count": 33,
   "metadata": {},
   "outputs": [
    {
     "output_type": "stream",
     "name": "stdout",
     "text": [
      "bruce\n"
     ]
    }
   ],
   "source": [
    "print(d2.name)"
   ]
  },
  {
   "cell_type": "code",
   "execution_count": 34,
   "metadata": {},
   "outputs": [
    {
     "output_type": "execute_result",
     "data": {
      "text/plain": [
       "False"
      ]
     },
     "metadata": {},
     "execution_count": 34
    }
   ],
   "source": [
    "d1 is d2"
   ]
  },
  {
   "cell_type": "code",
   "execution_count": 74,
   "metadata": {},
   "outputs": [],
   "source": [
    "class Dog:\n",
    "\n",
    "    def __init__(self, name, breed):\n",
    "        self.name = name\n",
    "        self.breed = breed\n",
    "\n",
    "    def bark(self):\n",
    "        d1 = Dog('Tyson', 'Lab')\n",
    "        print(self.name, \"is barking\")\n",
    "\n",
    "    def print_properties(self):\n",
    "        print(self.name, self.breed)"
   ]
  },
  {
   "cell_type": "code",
   "execution_count": 70,
   "metadata": {},
   "outputs": [],
   "source": [
    "d1 = Dog('Tyson', 'Lab')"
   ]
  },
  {
   "cell_type": "code",
   "execution_count": 71,
   "metadata": {},
   "outputs": [
    {
     "output_type": "execute_result",
     "data": {
      "text/plain": [
       "'Tyson'"
      ]
     },
     "metadata": {},
     "execution_count": 71
    }
   ],
   "source": [
    "d1.name"
   ]
  },
  {
   "cell_type": "code",
   "execution_count": 72,
   "metadata": {},
   "outputs": [
    {
     "output_type": "execute_result",
     "data": {
      "text/plain": [
       "'Tyson2'"
      ]
     },
     "metadata": {},
     "execution_count": 72
    }
   ],
   "source": [
    "d2 = Dog('Tyson2', 'Lab')\n",
    "d2.name"
   ]
  },
  {
   "cell_type": "code",
   "execution_count": 73,
   "metadata": {},
   "outputs": [
    {
     "output_type": "stream",
     "name": "stdout",
     "text": [
      "<class '__main__.Dog'>\nTyson is barking\n"
     ]
    }
   ],
   "source": [
    "d1.bark()"
   ]
  },
  {
   "cell_type": "code",
   "execution_count": 81,
   "metadata": {},
   "outputs": [],
   "source": [
    "class myclass:\n",
    "\n",
    "    def __init__(self, val):\n",
    "        self.val = val\n",
    "\n",
    "    def func(self):\n",
    "        print(\"inside func\")\n",
    "        # print(val)"
   ]
  },
  {
   "cell_type": "code",
   "execution_count": 82,
   "metadata": {},
   "outputs": [
    {
     "output_type": "execute_result",
     "data": {
      "text/plain": [
       "20"
      ]
     },
     "metadata": {},
     "execution_count": 82
    }
   ],
   "source": [
    "obj1 = myclass(20)\n",
    "obj1.val"
   ]
  },
  {
   "cell_type": "code",
   "execution_count": 83,
   "metadata": {},
   "outputs": [
    {
     "output_type": "stream",
     "name": "stdout",
     "text": [
      "inside func\n"
     ]
    }
   ],
   "source": [
    "obj1.func()"
   ]
  },
  {
   "cell_type": "code",
   "execution_count": 79,
   "metadata": {},
   "outputs": [
    {
     "output_type": "stream",
     "name": "stdout",
     "text": [
      "inside func\n"
     ]
    }
   ],
   "source": [
    "myclass.func()"
   ]
  },
  {
   "cell_type": "code",
   "execution_count": 80,
   "metadata": {},
   "outputs": [
    {
     "output_type": "error",
     "ename": "AttributeError",
     "evalue": "type object 'myclass' has no attribute 'val'",
     "traceback": [
      "\u001b[1;31m---------------------------------------------------------------------------\u001b[0m",
      "\u001b[1;31mAttributeError\u001b[0m                            Traceback (most recent call last)",
      "\u001b[1;32m<ipython-input-80-31707b8757e0>\u001b[0m in \u001b[0;36m<module>\u001b[1;34m\u001b[0m\n\u001b[1;32m----> 1\u001b[1;33m \u001b[0mprint\u001b[0m\u001b[1;33m(\u001b[0m\u001b[0mmyclass\u001b[0m\u001b[1;33m.\u001b[0m\u001b[0mval\u001b[0m\u001b[1;33m)\u001b[0m\u001b[1;33m\u001b[0m\u001b[1;33m\u001b[0m\u001b[0m\n\u001b[0m",
      "\u001b[1;31mAttributeError\u001b[0m: type object 'myclass' has no attribute 'val'"
     ]
    }
   ],
   "source": [
    "print(myclass.val)"
   ]
  },
  {
   "cell_type": "code",
   "execution_count": 91,
   "metadata": {},
   "outputs": [],
   "source": [
    "class Fan:\n",
    "\n",
    "    brand = \"Phillips\" # class variable\n",
    "    \n",
    "    def __init__(self, blades, color):\n",
    "        self.blades = blades\n",
    "        self.color = color"
   ]
  },
  {
   "cell_type": "code",
   "execution_count": 92,
   "metadata": {},
   "outputs": [],
   "source": [
    "f1 = Fan(3, 'white')\n",
    "f2 = Fan(3, 'black')"
   ]
  },
  {
   "cell_type": "code",
   "execution_count": 93,
   "metadata": {},
   "outputs": [
    {
     "output_type": "execute_result",
     "data": {
      "text/plain": [
       "(3, 'white', 'Phillips')"
      ]
     },
     "metadata": {},
     "execution_count": 93
    }
   ],
   "source": [
    "f1.blades, f1.color, f1.brand"
   ]
  },
  {
   "cell_type": "code",
   "execution_count": 88,
   "metadata": {},
   "outputs": [],
   "source": [
    "f1.brand = 'b2'\n"
   ]
  },
  {
   "cell_type": "code",
   "execution_count": 90,
   "metadata": {},
   "outputs": [
    {
     "output_type": "execute_result",
     "data": {
      "text/plain": [
       "('Phillips', 'b2')"
      ]
     },
     "metadata": {},
     "execution_count": 90
    }
   ],
   "source": [
    "f2.brand, f1.brand"
   ]
  },
  {
   "cell_type": "code",
   "execution_count": 94,
   "metadata": {},
   "outputs": [],
   "source": [
    "Fan.brand = \"b3\""
   ]
  },
  {
   "cell_type": "code",
   "execution_count": 95,
   "metadata": {},
   "outputs": [
    {
     "output_type": "execute_result",
     "data": {
      "text/plain": [
       "('b3', 'b3')"
      ]
     },
     "metadata": {},
     "execution_count": 95
    }
   ],
   "source": [
    "f1.brand, f2.brand"
   ]
  },
  {
   "cell_type": "code",
   "execution_count": 100,
   "metadata": {},
   "outputs": [],
   "source": [
    "class myclass1:\n",
    "\n",
    "    var = 40\n",
    "\n",
    "    def __init__(self, val):\n",
    "        self.var1 = val"
   ]
  },
  {
   "cell_type": "code",
   "execution_count": 104,
   "metadata": {},
   "outputs": [],
   "source": [
    "o1 = myclass1(10)\n",
    "o2 = myclass1(20)"
   ]
  },
  {
   "cell_type": "code",
   "execution_count": 105,
   "metadata": {},
   "outputs": [
    {
     "output_type": "execute_result",
     "data": {
      "text/plain": [
       "40"
      ]
     },
     "metadata": {},
     "execution_count": 105
    }
   ],
   "source": [
    "o1.var"
   ]
  },
  {
   "cell_type": "code",
   "execution_count": 106,
   "metadata": {},
   "outputs": [
    {
     "output_type": "execute_result",
     "data": {
      "text/plain": [
       "40"
      ]
     },
     "metadata": {},
     "execution_count": 106
    }
   ],
   "source": [
    "o2.var"
   ]
  },
  {
   "cell_type": "code",
   "execution_count": 107,
   "metadata": {},
   "outputs": [
    {
     "output_type": "execute_result",
     "data": {
      "text/plain": [
       "(50, 40)"
      ]
     },
     "metadata": {},
     "execution_count": 107
    }
   ],
   "source": [
    "o1.var = 50\n",
    "o1.var, o2.var"
   ]
  },
  {
   "cell_type": "code",
   "execution_count": 108,
   "metadata": {},
   "outputs": [
    {
     "output_type": "execute_result",
     "data": {
      "text/plain": [
       "40"
      ]
     },
     "metadata": {},
     "execution_count": 108
    }
   ],
   "source": [
    "myclass1.var"
   ]
  },
  {
   "cell_type": "code",
   "execution_count": 109,
   "metadata": {},
   "outputs": [
    {
     "output_type": "execute_result",
     "data": {
      "text/plain": [
       "(50, 70)"
      ]
     },
     "metadata": {},
     "execution_count": 109
    }
   ],
   "source": [
    "myclass1.var = 70\n",
    "o1.var, o2.var"
   ]
  },
  {
   "cell_type": "code",
   "execution_count": 110,
   "metadata": {},
   "outputs": [],
   "source": [
    "o2.var = 2"
   ]
  },
  {
   "source": [
    "## EMS"
   ],
   "cell_type": "markdown",
   "metadata": {}
  },
  {
   "cell_type": "code",
   "execution_count": 209,
   "metadata": {},
   "outputs": [],
   "source": [
    "class Employee:\n",
    "\n",
    "    empid = 0\n",
    "\n",
    "    def __init__(self, name, salary, desg, age, dept):\n",
    "        self.id = Employee.empid+1\n",
    "        self.name = name\n",
    "        self.salary = salary\n",
    "        self.designation = desg\n",
    "        self.age = age\n",
    "        self.dept = dept\n",
    "        Employee.empid += 1"
   ]
  },
  {
   "cell_type": "code",
   "execution_count": 210,
   "metadata": {},
   "outputs": [],
   "source": [
    "e1 = Employee('princey1', 500000, 'mentor', 20, 'class')\n",
    "e2 = Employee('princey2', 500000, 'mentor', 20, 'dev')\n",
    "e3 = Employee('princey3', 500000, 'mentor', 20, 'dev')\n",
    "e4 = Employee('princey4', 500000, 'mentor', 20, 'finance')\n",
    "e5 = Employee('princey5', 500000, 'mentor', 20, 'finance')"
   ]
  },
  {
   "cell_type": "code",
   "execution_count": 229,
   "metadata": {},
   "outputs": [],
   "source": [
    "class ems:\n",
    "\n",
    "\n",
    "    def __init__(self):\n",
    "        self.employees = []\n",
    "\n",
    "    def create_user(self):\n",
    "        name = input()\n",
    "        salary = int(input())\n",
    "        desg = input()\n",
    "        age = int(input())\n",
    "        dept = input()\n",
    "        e = Employee(name, salary, desg, age, dept)\n",
    "        self.employees.append(e)\n",
    "\n",
    "    def delete(self, e):\n",
    "        if e in self.employees:\n",
    "            self.employees.remove(e)\n",
    "            print(f\"{e.name},  removed\")\n",
    "        else:\n",
    "            print(f'{e.name} not found!')\n",
    "\n",
    "    def total_salary(self):\n",
    "        total = 0\n",
    "        for e in self.employees:\n",
    "            total += e.salary\n",
    "        return total\n",
    "\n",
    "    def give_raise(self,id, rs):\n",
    "        for e in self.employees:\n",
    "            if e.id == id:\n",
    "                e.salary+=rs\n",
    "                print('raise given!')\n",
    "                break\n",
    "\n",
    "    def department_wise_count(self):\n",
    "        d = {}\n",
    "        for e in self.employees:\n",
    "            if d.get(e.dept,0) == 0:\n",
    "                d[e.dept] = 1\n",
    "            else:\n",
    "                d[e.dept] += 1\n",
    "        print(d)\n",
    "\n",
    "    def total_departments(self):\n",
    "        s = set()\n",
    "        for e in self.employees:\n",
    "            s.add(e.dept)\n",
    "        print(s)\n",
    "\n",
    "    def total_employees(self):\n",
    "        return len(self.employees)\n",
    "\n",
    "    def get_employee(self,id):\n",
    "        for e in self.employees:\n",
    "            if e.id == id:\n",
    "                return e"
   ]
  },
  {
   "cell_type": "code",
   "execution_count": 238,
   "metadata": {},
   "outputs": [
    {
     "output_type": "execute_result",
     "data": {
      "text/plain": [
       "['hello', 'hi', '340055']"
      ]
     },
     "metadata": {},
     "execution_count": 238
    }
   ],
   "source": [
    "l = [[1,3,4,5],[2],[3],[4]]\n",
    "l = [e1, e2, e3]\n",
    "\n",
    "\n",
    "s1 = 'hello'\n",
    "s2 = 'hi'\n",
    "s3 = '340055'\n",
    "l2 = [s1, s2, s3]\n",
    "l2"
   ]
  },
  {
   "cell_type": "code",
   "execution_count": 231,
   "metadata": {},
   "outputs": [],
   "source": [
    "ems1 = ems()"
   ]
  },
  {
   "cell_type": "code",
   "execution_count": 232,
   "metadata": {},
   "outputs": [
    {
     "output_type": "execute_result",
     "data": {
      "text/plain": [
       "5"
      ]
     },
     "metadata": {},
     "execution_count": 232
    }
   ],
   "source": [
    "len(ems1.employees)\n",
    "ems1.employees = [e1,e2,e3,e4,e5]\n",
    "len(ems1.employees)"
   ]
  },
  {
   "cell_type": "code",
   "execution_count": 233,
   "metadata": {},
   "outputs": [
    {
     "output_type": "execute_result",
     "data": {
      "text/plain": [
       "3"
      ]
     },
     "metadata": {},
     "execution_count": 233
    }
   ],
   "source": [
    "e3.id"
   ]
  },
  {
   "cell_type": "code",
   "execution_count": 234,
   "metadata": {},
   "outputs": [
    {
     "output_type": "stream",
     "name": "stdout",
     "text": [
      "2502000\n"
     ]
    }
   ],
   "source": [
    "t = ems1.total_salary()\n",
    "print(t)"
   ]
  },
  {
   "cell_type": "code",
   "execution_count": 226,
   "metadata": {},
   "outputs": [
    {
     "output_type": "stream",
     "name": "stdout",
     "text": [
      "princey3\nraise given!\n"
     ]
    },
    {
     "output_type": "execute_result",
     "data": {
      "text/plain": [
       "502000"
      ]
     },
     "metadata": {},
     "execution_count": 226
    }
   ],
   "source": [
    "e = ems1.get_employee(3)\n",
    "print(e.name)\n",
    "\n",
    "ems1.give_raise(e.id, 1000)\n",
    "e.salary"
   ]
  },
  {
   "cell_type": "code",
   "execution_count": 235,
   "metadata": {},
   "outputs": [
    {
     "output_type": "stream",
     "name": "stdout",
     "text": [
      "{'class': 1, 'dev': 2, 'finance': 2}\n"
     ]
    }
   ],
   "source": [
    "ems1.department_wise_count()"
   ]
  },
  {
   "cell_type": "code",
   "execution_count": 236,
   "metadata": {},
   "outputs": [
    {
     "output_type": "stream",
     "name": "stdout",
     "text": [
      "{'class', 'dev', 'finance'}\n"
     ]
    }
   ],
   "source": [
    "ems1.total_departments()"
   ]
  },
  {
   "cell_type": "code",
   "execution_count": 237,
   "metadata": {},
   "outputs": [
    {
     "output_type": "execute_result",
     "data": {
      "text/plain": [
       "5"
      ]
     },
     "metadata": {},
     "execution_count": 237
    }
   ],
   "source": [
    "ems1.total_employees()"
   ]
  },
  {
   "cell_type": "code",
   "execution_count": null,
   "metadata": {},
   "outputs": [],
   "source": []
  },
  {
   "cell_type": "code",
   "execution_count": 130,
   "metadata": {},
   "outputs": [],
   "source": [
    "ems1.create_user()"
   ]
  },
  {
   "cell_type": "code",
   "execution_count": 134,
   "metadata": {},
   "outputs": [
    {
     "output_type": "execute_result",
     "data": {
      "text/plain": [
       "2"
      ]
     },
     "metadata": {},
     "execution_count": 134
    }
   ],
   "source": [
    "len(ems1.employees)"
   ]
  },
  {
   "cell_type": "code",
   "execution_count": 133,
   "metadata": {},
   "outputs": [],
   "source": [
    "ems1.create_user()"
   ]
  },
  {
   "cell_type": "code",
   "execution_count": 135,
   "metadata": {},
   "outputs": [],
   "source": [
    "e1 = ems1.employees[0]"
   ]
  },
  {
   "cell_type": "code",
   "execution_count": 136,
   "metadata": {},
   "outputs": [
    {
     "output_type": "stream",
     "name": "stdout",
     "text": [
      "princey,  removed\n"
     ]
    }
   ],
   "source": [
    "ems1.delete(e1)"
   ]
  },
  {
   "cell_type": "code",
   "execution_count": 124,
   "metadata": {},
   "outputs": [
    {
     "output_type": "stream",
     "name": "stdout",
     "text": [
      "Hi\n"
     ]
    }
   ],
   "source": [
    "l = [1,2,3,4]\n",
    "if 4 in l:\n",
    "    l.remove(4)\n",
    "    print('Hi')"
   ]
  }
 ]
}